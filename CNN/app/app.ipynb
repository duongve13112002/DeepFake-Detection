{
  "cells": [
    {
      "cell_type": "code",
      "execution_count": null,
      "metadata": {
        "colab": {
          "base_uri": "https://localhost:8080/"
        },
        "id": "6fjJNLMjwDxz",
        "outputId": "53c4cd39-0d93-4c69-fd2b-aa58f0050450"
      },
      "outputs": [
        {
          "name": "stdout",
          "output_type": "stream",
          "text": [
            "Mounted at /content/drive\n"
          ]
        }
      ],
      "source": [
        "from google.colab import drive\n",
        "drive.mount('/content/drive')"
      ]
    },
    {
      "cell_type": "code",
      "execution_count": null,
      "metadata": {
        "colab": {
          "base_uri": "https://localhost:8080/"
        },
        "id": "f6j_mIsHxCik",
        "outputId": "afcf11ae-d739-4251-9c0f-0c26214d8f74"
      },
      "outputs": [
        {
          "name": "stdout",
          "output_type": "stream",
          "text": [
            "Looking in indexes: https://pypi.org/simple, https://us-python.pkg.dev/colab-wheels/public/simple/\n",
            "Collecting pyngrok\n",
            "  Downloading pyngrok-5.1.0.tar.gz (745 kB)\n",
            "\u001b[K     |████████████████████████████████| 745 kB 32.8 MB/s \n",
            "\u001b[?25hRequirement already satisfied: PyYAML in /usr/local/lib/python3.7/dist-packages (from pyngrok) (6.0)\n",
            "Building wheels for collected packages: pyngrok\n",
            "  Building wheel for pyngrok (setup.py) ... \u001b[?25l\u001b[?25hdone\n",
            "  Created wheel for pyngrok: filename=pyngrok-5.1.0-py3-none-any.whl size=19007 sha256=d682a81dacff19c971ad6d3d2333c63f97116844277b6a0fc8fa79adf952f103\n",
            "  Stored in directory: /root/.cache/pip/wheels/bf/e6/af/ccf6598ecefecd44104069371795cb9b3afbcd16987f6ccfb3\n",
            "Successfully built pyngrok\n",
            "Installing collected packages: pyngrok\n",
            "Successfully installed pyngrok-5.1.0\n",
            "Looking in indexes: https://pypi.org/simple, https://us-python.pkg.dev/colab-wheels/public/simple/\n",
            "Collecting flask_ngrok\n",
            "  Downloading flask_ngrok-0.0.25-py3-none-any.whl (3.1 kB)\n",
            "Requirement already satisfied: requests in /usr/local/lib/python3.7/dist-packages (from flask_ngrok) (2.23.0)\n",
            "Requirement already satisfied: Flask>=0.8 in /usr/local/lib/python3.7/dist-packages (from flask_ngrok) (1.1.4)\n",
            "Requirement already satisfied: Werkzeug<2.0,>=0.15 in /usr/local/lib/python3.7/dist-packages (from Flask>=0.8->flask_ngrok) (1.0.1)\n",
            "Requirement already satisfied: itsdangerous<2.0,>=0.24 in /usr/local/lib/python3.7/dist-packages (from Flask>=0.8->flask_ngrok) (1.1.0)\n",
            "Requirement already satisfied: click<8.0,>=5.1 in /usr/local/lib/python3.7/dist-packages (from Flask>=0.8->flask_ngrok) (7.1.2)\n",
            "Requirement already satisfied: Jinja2<3.0,>=2.10.1 in /usr/local/lib/python3.7/dist-packages (from Flask>=0.8->flask_ngrok) (2.11.3)\n",
            "Requirement already satisfied: MarkupSafe>=0.23 in /usr/local/lib/python3.7/dist-packages (from Jinja2<3.0,>=2.10.1->Flask>=0.8->flask_ngrok) (2.0.1)\n",
            "Requirement already satisfied: chardet<4,>=3.0.2 in /usr/local/lib/python3.7/dist-packages (from requests->flask_ngrok) (3.0.4)\n",
            "Requirement already satisfied: certifi>=2017.4.17 in /usr/local/lib/python3.7/dist-packages (from requests->flask_ngrok) (2022.9.24)\n",
            "Requirement already satisfied: urllib3!=1.25.0,!=1.25.1,<1.26,>=1.21.1 in /usr/local/lib/python3.7/dist-packages (from requests->flask_ngrok) (1.24.3)\n",
            "Requirement already satisfied: idna<3,>=2.5 in /usr/local/lib/python3.7/dist-packages (from requests->flask_ngrok) (2.10)\n",
            "Installing collected packages: flask-ngrok\n",
            "Successfully installed flask-ngrok-0.0.25\n",
            "Looking in indexes: https://pypi.org/simple, https://us-python.pkg.dev/colab-wheels/public/simple/\n",
            "Collecting face_recognition\n",
            "  Downloading face_recognition-1.3.0-py2.py3-none-any.whl (15 kB)\n",
            "Collecting face-recognition-models>=0.3.0\n",
            "  Downloading face_recognition_models-0.3.0.tar.gz (100.1 MB)\n",
            "\u001b[K     |████████████████████████████████| 100.1 MB 27 kB/s \n",
            "\u001b[?25hRequirement already satisfied: numpy in /usr/local/lib/python3.7/dist-packages (from face_recognition) (1.21.6)\n",
            "Requirement already satisfied: dlib>=19.7 in /usr/local/lib/python3.7/dist-packages (from face_recognition) (19.24.0)\n",
            "Requirement already satisfied: Pillow in /usr/local/lib/python3.7/dist-packages (from face_recognition) (7.1.2)\n",
            "Requirement already satisfied: Click>=6.0 in /usr/local/lib/python3.7/dist-packages (from face_recognition) (7.1.2)\n",
            "Building wheels for collected packages: face-recognition-models\n",
            "  Building wheel for face-recognition-models (setup.py) ... \u001b[?25l\u001b[?25hdone\n",
            "  Created wheel for face-recognition-models: filename=face_recognition_models-0.3.0-py2.py3-none-any.whl size=100566185 sha256=5b66af1e881a46e775100ebf82401f971ea513d1aaa28e452eb727331953a103\n",
            "  Stored in directory: /root/.cache/pip/wheels/d6/81/3c/884bcd5e1c120ff548d57c2ecc9ebf3281c9a6f7c0e7e7947a\n",
            "Successfully built face-recognition-models\n",
            "Installing collected packages: face-recognition-models, face-recognition\n",
            "Successfully installed face-recognition-1.3.0 face-recognition-models-0.3.0\n"
          ]
        }
      ],
      "source": [
        "!pip install pyngrok\n",
        "!pip install flask_ngrok\n",
        "!pip3 install face_recognition"
      ]
    },
    {
      "cell_type": "code",
      "execution_count": null,
      "metadata": {
        "colab": {
          "base_uri": "https://localhost:8080/"
        },
        "id": "DVF0q726xGN6",
        "outputId": "caac8f20-b36d-4d1b-a7f5-dd6caeaaf393"
      },
      "outputs": [
        {
          "name": "stdout",
          "output_type": "stream",
          "text": [
            "/content/drive/MyDrive/Slide báo cáo/Model của dương :)/app\n",
            "'Flask API.ipynb'   model   static\n"
          ]
        }
      ],
      "source": [
        "%cd \"./app\"\n",
        "!ls"
      ]
    },
    {
      "cell_type": "markdown",
      "metadata": {
        "id": "t2eOjpSDz3Q1"
      },
      "source": [
        "#  Import libraries"
      ]
    },
    {
      "cell_type": "code",
      "execution_count": null,
      "metadata": {
        "id": "wc_gtWMHyhui"
      },
      "outputs": [],
      "source": [
        "from flask import Flask, render_template, request, redirect, url_for\n",
        "from keras.models import load_model\n",
        "import numpy as np\n",
        "import cv2\n",
        "import os\n",
        "from flask import Flask\n",
        "from werkzeug.utils import secure_filename\n",
        "import os\n",
        "from tensorflow import keras\n",
        "from flask import Flask, request, render_template\n",
        "from werkzeug.utils import secure_filename\n",
        "import dlib\n",
        "import tensorflow as tf\n",
        "from tensorflow.keras.preprocessing.image import img_to_array, load_img\n",
        "from pyngrok import ngrok\n",
        "from flask_ngrok import run_with_ngrok"
      ]
    },
    {
      "cell_type": "markdown",
      "metadata": {
        "id": "OIq5z1ECz0LV"
      },
      "source": [
        "# Display Home Page"
      ]
    },
    {
      "cell_type": "code",
      "execution_count": null,
      "metadata": {
        "colab": {
          "base_uri": "https://localhost:8080/"
        },
        "id": "v4aHMX8kyj3p",
        "outputId": "98bf173d-9ca0-4cb5-85db-421a8940280e"
      },
      "outputs": [
        {
          "name": "stdout",
          "output_type": "stream",
          "text": []
        }
      ],
      "source": [
        "app = Flask(__name__ , template_folder='static/templates')\n",
        "ngrok.set_auth_token(\"29AhNyFJiBxEu0s07cR2zA8VqDQ_3wmwNStUSaHgpCiP2UNkd\")\n",
        "run_with_ngrok(app)\n",
        "@app.route('/')\n",
        "def main():\n",
        "  return render_template (\"Home.html\")"
      ]
    },
    {
      "cell_type": "markdown",
      "metadata": {
        "id": "_9LWfh85zvnR"
      },
      "source": [
        "#  Redirect To Upload"
      ]
    },
    {
      "cell_type": "code",
      "execution_count": null,
      "metadata": {
        "id": "Sh85xq7JymhB"
      },
      "outputs": [],
      "source": [
        "\n",
        "\n",
        "@app.route('/upload_video', methods=['POST'])\n",
        "def Video():\n",
        "  return render_template (\"Upload_Video.html\")\n",
        "\n",
        "@app.route('/upload_image', methods=['POST'])\n",
        "def image():\n",
        "    return render_template('Upload_image.html')\n",
        "@app.route('/About-us', methods=['POST'])\n",
        "def About_us():\n",
        "  return render_template('About-us.html')\n"
      ]
    },
    {
      "cell_type": "markdown",
      "metadata": {
        "id": "i3e4WK4gzsIO"
      },
      "source": [
        "# Load Model"
      ]
    },
    {
      "cell_type": "code",
      "execution_count": null,
      "metadata": {
        "id": "Za9UHhU7yo6X"
      },
      "outputs": [],
      "source": [
        "model = tf.keras.models.load_model('./model/model-deepfake-detection.h5')"
      ]
    },
    {
      "cell_type": "markdown",
      "metadata": {
        "id": "o2OD7Uzkznx2"
      },
      "source": [
        "# Function Prediction"
      ]
    },
    {
      "cell_type": "code",
      "execution_count": null,
      "metadata": {
        "id": "sc9MWtkI_U8h"
      },
      "outputs": [],
      "source": [
        "from google.colab.patches import cv2_imshow\n",
        "from tensorflow import keras\n",
        "\n",
        "from PIL import Image\n",
        "from PIL import ImageFilter\n",
        "from PIL import ImageEnhance\n"
      ]
    },
    {
      "cell_type": "code",
      "execution_count": null,
      "metadata": {
        "id": "0oyNk1pQV5T3"
      },
      "outputs": [],
      "source": [
        "def sp_hehe(model , img):\n",
        "  pre_lst = []\n",
        "  for i in img:\n",
        "    data = img_to_array(cv2.resize(i, (128, 128))).flatten() / 255.0\n",
        "    data = data.reshape(-1, 128, 128, 3)\n",
        "    pre = model.predict(data)\n",
        "    if ((pre > 0.5).astype(\"int32\")[0][0] == 0 ):\n",
        "      pre_lst.append(1)\n",
        "    else :\n",
        "      pre_lst.append(0)\n",
        "\n",
        "  return pre_lst"
      ]
    },
    {
      "cell_type": "code",
      "execution_count": null,
      "metadata": {
        "id": "OE0iVSnDVGog"
      },
      "outputs": [],
      "source": [
        "def prediction (filepath):\n",
        "  input_shape = (128, 128, 3)\n",
        "  pr_data = []\n",
        "  detector = dlib.get_frontal_face_detector()\n",
        "  cap = cv2.VideoCapture(filepath)\n",
        "  frameRate = cap.get(5)\n",
        "  print(frameRate)\n",
        "  real_frame = 0\n",
        "  fake_frame = 0\n",
        "  sp_1 = 3\n",
        "  sp_2 = 4\n",
        "  while cap.isOpened():\n",
        "      frameId = cap.get(1)\n",
        "      ret, frame = cap.read()\n",
        "      if ret != True:\n",
        "          break\n",
        "      if round(frameId *  2) % round(frameRate) == 0:\n",
        "        face_rects, scores, idx = detector.run(frame, 0)\n",
        "        for i, d in enumerate(face_rects):\n",
        "              x1 = d.left()\n",
        "              y1 = d.top()\n",
        "              x2 = d.right()\n",
        "              y2 = d.bottom()\n",
        "              crop_img = frame[y1:y2, x1:x2]\n",
        "              if crop_img.shape[0] != 0 and crop_img.shape[1] != 0:\n",
        "                flag = 1\n",
        "                grey = cv2.cvtColor(crop_img, cv2.COLOR_BGR2GRAY)\n",
        "                laplacian_var = cv2.Laplacian(grey, cv2.CV_64F).var()\n",
        "                crop_img_2 = crop_img.copy()\n",
        "                crop_img_3 = crop_img.copy()\n",
        "                crop_img_4 = crop_img.copy()\n",
        "                crop_img_5 = crop_img.copy()\n",
        "                laplacian_var_3 =laplacian_var\n",
        "                laplacian_var_4 = laplacian_var\n",
        "                laplacian_var_5 = laplacian_var\n",
        "                if laplacian_var < 25:\n",
        "                  flag =5\n",
        "                elif laplacian_var < 50:\n",
        "                  flag = 4\n",
        "                elif laplacian_var <75:\n",
        "                  flag = 3\n",
        "                elif laplacian_var <100:\n",
        "                  flag =2\n",
        "                else:\n",
        "                  flag =1\n",
        "                while  laplacian_var_3 < 25:\n",
        "                  kernel = np.array([[-1,-1,-1], [-1,9,-1], [-1,-1,-1]], np.float32)\n",
        "                  crop_img_3 = cv2.filter2D(crop_img_3, -1, kernel)\n",
        "                  grey = cv2.cvtColor(crop_img_3, cv2.COLOR_BGR2GRAY)\n",
        "                  laplacian_var_3 = cv2.Laplacian(grey, cv2.CV_64F).var()\n",
        "                while laplacian_var_4 < 50:\n",
        "                  crop_img_4= cv2.detailEnhance(crop_img_4, sigma_s=10, sigma_r=0.15)\n",
        "                  crop_img_4= Image.fromarray(crop_img_4)\n",
        "                  crop_img_4 = crop_img_4.filter(ImageFilter.SHARPEN)\n",
        "                  crop_img_4 = np.array(crop_img_4)\n",
        "\n",
        "                  grey = cv2.cvtColor(crop_img_4, cv2.COLOR_BGR2GRAY)\n",
        "                  laplacian_var_4 = cv2.Laplacian(grey, cv2.CV_64F).var()\n",
        "                while laplacian_var_5 <75:\n",
        "                  crop_img_5= cv2.detailEnhance(crop_img_5, sigma_s=10, sigma_r=0.15)\n",
        "\n",
        "\n",
        "                  grey = cv2.cvtColor(crop_img_5, cv2.COLOR_BGR2GRAY)\n",
        "                  laplacian_var_5 = cv2.Laplacian(grey, cv2.CV_64F).var()\n",
        "                while laplacian_var < 100:\n",
        "                    crop_img= Image.fromarray(crop_img)\n",
        "                    crop_img = crop_img.filter(ImageFilter.SHARPEN)\n",
        "                    crop_img = np.array(crop_img)\n",
        "                    grey = cv2.cvtColor(crop_img, cv2.COLOR_BGR2GRAY)\n",
        "                    laplacian_var = cv2.Laplacian(grey, cv2.CV_64F).var()\n",
        "                if flag ==5 :\n",
        "                  img = [crop_img,crop_img_2,crop_img_3,crop_img_4,crop_img_5]\n",
        "                  pre = sp_hehe(model,img)\n",
        "                if flag == 4:\n",
        "                  img = [crop_img,crop_img_2,crop_img_4,crop_img_5]\n",
        "                  pre = sp_hehe(model,img)\n",
        "                if flag == 3:\n",
        "                  img = [crop_img,crop_img_2,crop_img_5]\n",
        "                  pre = sp_hehe(model,img)\n",
        "                if flag == 2:\n",
        "                  img = [crop_img,crop_img_2]\n",
        "                  pre = sp_hehe(model,img)\n",
        "                if flag == 1:\n",
        "                  img = [crop_img_2]\n",
        "                  pre = sp_hehe(model,img)\n",
        "                outt=''\n",
        "                if flag %2 ==0 :\n",
        "                  if pre.count(1) != pre.count(0):\n",
        "                    if pre.count(1) > pre.count(0):\n",
        "                      real_frame+=1\n",
        "                    else:\n",
        "                      fake_frame+=1\n",
        "                else:\n",
        "                  if flag !=1:\n",
        "                    if sum(pre) >= int(flag/2) +1:\n",
        "                      real_frame+=1\n",
        "                    else:\n",
        "                      fake_frame+=1\n",
        "                  else:\n",
        "                    if pre[0] == 1:\n",
        "                      real_frame+=1\n",
        "                    else:\n",
        "                      fake_frame+=1\n",
        "\n",
        "\n",
        "  print(real_frame)\n",
        "  print(fake_frame)\n",
        "  if (real_frame == 0 and fake_frame == 0):\n",
        "    return 'Real'\n",
        "  elif  fake_frame-real_frame == 1 :\n",
        "    return 'Fake'\n",
        "  elif fake_frame == 0 and real_frame > fake_frame:\n",
        "    return 'Real'\n",
        "  elif fake_frame!=0 and (( real_frame/fake_frame > 1.065) or( real_frame/fake_frame >= 0.98 and real_frame/fake_frame < 1)) :\n",
        "    return 'Real'\n",
        "  else:\n",
        "    return'Fake'"
      ]
    },
    {
      "cell_type": "markdown",
      "metadata": {
        "id": "w6hz6MmqzhB-"
      },
      "source": [
        "# Upload File"
      ]
    },
    {
      "cell_type": "code",
      "execution_count": null,
      "metadata": {
        "id": "ddpM762aywCo"
      },
      "outputs": [],
      "source": [
        "UPLOAD_FOLDER = 'static'\n",
        "UPLOAD_VIDEO = 'static/video'\n",
        "UPLOAD_IMAGE = 'static/image'\n",
        "app.secret_key = \"secret key\"\n",
        "app.config['UPLOAD_FOLDER'] = UPLOAD_FOLDER\n",
        "app.config['UPLOAD_VIDEO'] = UPLOAD_VIDEO\n",
        "app.config['UPLOAD_IMAGE'] = UPLOAD_IMAGE\n",
        "app.config['MAX_CONTENT_LENGTH'] = 20 * 1024 * 1024 #Cannot upload files larger than 20MB."
      ]
    },
    {
      "cell_type": "code",
      "execution_count": null,
      "metadata": {
        "colab": {
          "base_uri": "https://localhost:8080/"
        },
        "id": "P7JD7hCRw7SO",
        "outputId": "11072432-1058-49d7-d8f2-bf785681f275"
      },
      "outputs": [
        {
          "name": "stdout",
          "output_type": "stream",
          "text": [
            "<Config {'ENV': 'production', 'DEBUG': False, 'TESTING': False, 'PROPAGATE_EXCEPTIONS': None, 'PRESERVE_CONTEXT_ON_EXCEPTION': None, 'SECRET_KEY': 'secret key', 'PERMANENT_SESSION_LIFETIME': datetime.timedelta(days=31), 'USE_X_SENDFILE': False, 'SERVER_NAME': None, 'APPLICATION_ROOT': '/', 'SESSION_COOKIE_NAME': 'session', 'SESSION_COOKIE_DOMAIN': None, 'SESSION_COOKIE_PATH': None, 'SESSION_COOKIE_HTTPONLY': True, 'SESSION_COOKIE_SECURE': False, 'SESSION_COOKIE_SAMESITE': None, 'SESSION_REFRESH_EACH_REQUEST': True, 'MAX_CONTENT_LENGTH': 20971520, 'SEND_FILE_MAX_AGE_DEFAULT': datetime.timedelta(seconds=43200), 'TRAP_BAD_REQUEST_ERRORS': None, 'TRAP_HTTP_EXCEPTIONS': False, 'EXPLAIN_TEMPLATE_LOADING': False, 'PREFERRED_URL_SCHEME': 'http', 'JSON_AS_ASCII': True, 'JSON_SORT_KEYS': True, 'JSONIFY_PRETTYPRINT_REGULAR': False, 'JSONIFY_MIMETYPE': 'application/json', 'TEMPLATES_AUTO_RELOAD': None, 'MAX_COOKIE_SIZE': 4093, 'UPLOAD_FOLDER': 'static', 'UPLOAD_VIDEO': 'static/video', 'UPLOAD_IMAGE': 'static/image'}>\n"
          ]
        }
      ],
      "source": [
        "print(app.config)"
      ]
    },
    {
      "cell_type": "markdown",
      "metadata": {
        "id": "Z3egqPL9zVM2"
      },
      "source": [
        "#  Video Prediction & Display Result"
      ]
    },
    {
      "cell_type": "code",
      "execution_count": null,
      "metadata": {
        "id": "5Xmm64H8yyk-"
      },
      "outputs": [],
      "source": [
        "@app.route('/predict_video', methods=['POST'])\n",
        "def upload_video():\n",
        "\tfile = request.files['file']\n",
        "\tfilename = secure_filename(file.filename)\n",
        "\tfile.save(os.path.join(app.config['UPLOAD_VIDEO'], filename))\n",
        "\tfilepath = \"static/video/\"+filename\n",
        "\tpreds = prediction(filepath)\n",
        "\treturn render_template(\"Display_Video.html\",prediction =preds ,video_path = 'video/'+filename)"
      ]
    },
    {
      "cell_type": "markdown",
      "metadata": {
        "id": "vJ7JaIKezQyh"
      },
      "source": [
        "# Image Prediction & Display Result"
      ]
    },
    {
      "cell_type": "code",
      "execution_count": null,
      "metadata": {
        "id": "89tk41__y4CX"
      },
      "outputs": [],
      "source": [
        "@app.route('/Predict_image', methods=['GET', 'POST'])\n",
        "def upload():\n",
        "    if request.method == 'POST':\n",
        "        f = request.files['file']\n",
        "        file_path = os.path.join (app.config['UPLOAD_IMAGE'], secure_filename(f.filename))\n",
        "        f.save(file_path)\n",
        "        # Make prediction\n",
        "        preds = prediction(file_path)\n",
        "        #print(f.filename)\n",
        "    return render_template(\"Display_image.html\",prediction = preds, img_path= 'image/'+f.filename )\n"
      ]
    },
    {
      "cell_type": "markdown",
      "metadata": {
        "id": "0Up1IPIiy8VV"
      },
      "source": [
        "# **Run Flask Application**#  "
      ]
    },
    {
      "cell_type": "code",
      "execution_count": null,
      "metadata": {
        "colab": {
          "background_save": true,
          "base_uri": "https://localhost:8080/"
        },
        "id": "obt5rbWmwun2",
        "outputId": "7841b784-a875-48f2-b4b6-1e7feda33858"
      },
      "outputs": [
        {
          "name": "stdout",
          "output_type": "stream",
          "text": [
            " * Serving Flask app \"__main__\" (lazy loading)\n",
            " * Environment: production\n",
            "\u001b[31m   WARNING: This is a development server. Do not use it in a production deployment.\u001b[0m\n",
            "\u001b[2m   Use a production WSGI server instead.\u001b[0m\n",
            " * Debug mode: off\n"
          ]
        },
        {
          "name": "stderr",
          "output_type": "stream",
          "text": [
            "INFO:werkzeug: * Running on http://127.0.0.1:5000/ (Press CTRL+C to quit)\n"
          ]
        },
        {
          "name": "stdout",
          "output_type": "stream",
          "text": [
            " * Running on http://6c2e-35-240-153-220.ngrok.io\n",
            " * Traffic stats available on http://127.0.0.1:4040\n"
          ]
        },
        {
          "name": "stderr",
          "output_type": "stream",
          "text": [
            "INFO:werkzeug:127.0.0.1 - - [18/Nov/2022 07:42:56] \"\u001b[37mGET / HTTP/1.1\u001b[0m\" 200 -\n",
            "INFO:werkzeug:127.0.0.1 - - [18/Nov/2022 07:42:57] \"\u001b[37mGET /static/css/main.css HTTP/1.1\u001b[0m\" 200 -\n",
            "INFO:werkzeug:127.0.0.1 - - [18/Nov/2022 07:42:57] \"\u001b[37mGET /static/css/normalize.css HTTP/1.1\u001b[0m\" 200 -\n",
            "INFO:werkzeug:127.0.0.1 - - [18/Nov/2022 07:42:58] \"\u001b[37mGET /static/background/deepfake2.jpeg HTTP/1.1\u001b[0m\" 200 -\n",
            "INFO:werkzeug:127.0.0.1 - - [18/Nov/2022 07:42:58] \"\u001b[37mGET /static/background/cover.mp4 HTTP/1.1\u001b[0m\" 206 -\n",
            "INFO:werkzeug:127.0.0.1 - - [18/Nov/2022 07:42:59] \"\u001b[37mGET /static/background/cover.mp4 HTTP/1.1\u001b[0m\" 206 -\n",
            "INFO:werkzeug:127.0.0.1 - - [18/Nov/2022 07:43:01] \"\u001b[37mGET /static/background/cover.mp4 HTTP/1.1\u001b[0m\" 206 -\n",
            "INFO:werkzeug:127.0.0.1 - - [18/Nov/2022 07:43:01] \"\u001b[33mGET /favicon.ico HTTP/1.1\u001b[0m\" 404 -\n",
            "INFO:werkzeug:127.0.0.1 - - [18/Nov/2022 07:43:09] \"\u001b[37mPOST /upload_video HTTP/1.1\u001b[0m\" 200 -\n",
            "INFO:werkzeug:127.0.0.1 - - [18/Nov/2022 07:43:09] \"\u001b[37mGET /static/js/jquery-1.12.4.min.js HTTP/1.1\u001b[0m\" 200 -\n",
            "INFO:werkzeug:127.0.0.1 - - [18/Nov/2022 07:43:10] \"\u001b[37mGET /static/js/main.js HTTP/1.1\u001b[0m\" 200 -\n",
            "INFO:werkzeug:127.0.0.1 - - [18/Nov/2022 07:43:12] \"\u001b[37mGET /static/css/aa.jpg HTTP/1.1\u001b[0m\" 200 -\n",
            "INFO:werkzeug:127.0.0.1 - - [18/Nov/2022 07:43:26] \"\u001b[37mPOST /upload_video HTTP/1.1\u001b[0m\" 200 -\n",
            "INFO:werkzeug:127.0.0.1 - - [18/Nov/2022 07:44:54] \"\u001b[37mPOST /upload_video HTTP/1.1\u001b[0m\" 200 -\n",
            "INFO:werkzeug:127.0.0.1 - - [18/Nov/2022 07:45:02] \"\u001b[31m\u001b[1mPOST /predict_video HTTP/1.1\u001b[0m\" 400 -\n",
            "INFO:werkzeug:127.0.0.1 - - [18/Nov/2022 07:45:25] \"\u001b[31m\u001b[1mPOST /predict_video HTTP/1.1\u001b[0m\" 400 -\n",
            "INFO:werkzeug:127.0.0.1 - - [18/Nov/2022 07:45:25] \"\u001b[37mGET /static/background/cover.mp4 HTTP/1.1\u001b[0m\" 206 -\n",
            "INFO:werkzeug:127.0.0.1 - - [18/Nov/2022 07:45:26] \"\u001b[37mPOST /upload_video HTTP/1.1\u001b[0m\" 200 -\n",
            "INFO:werkzeug:127.0.0.1 - - [18/Nov/2022 07:46:29] \"\u001b[31m\u001b[1mPOST /predict_video HTTP/1.1\u001b[0m\" 400 -\n",
            "INFO:werkzeug:127.0.0.1 - - [18/Nov/2022 07:46:29] \"\u001b[37mGET /static/background/cover.mp4 HTTP/1.1\u001b[0m\" 206 -\n",
            "INFO:werkzeug:127.0.0.1 - - [18/Nov/2022 07:46:30] \"\u001b[37mPOST /upload_image HTTP/1.1\u001b[0m\" 200 -\n"
          ]
        },
        {
          "name": "stdout",
          "output_type": "stream",
          "text": [
            "25.0\n",
            "1/1 [==============================] - 0s 38ms/step\n"
          ]
        },
        {
          "name": "stderr",
          "output_type": "stream",
          "text": [
            "INFO:werkzeug:127.0.0.1 - - [18/Nov/2022 07:47:02] \"\u001b[37mPOST /Predict_image HTTP/1.1\u001b[0m\" 200 -\n"
          ]
        },
        {
          "name": "stdout",
          "output_type": "stream",
          "text": [
            "0\n",
            "1\n"
          ]
        },
        {
          "name": "stderr",
          "output_type": "stream",
          "text": [
            "INFO:werkzeug:127.0.0.1 - - [18/Nov/2022 07:47:03] \"\u001b[37mGET /static/image/0AC8YPJO06.jpg HTTP/1.1\u001b[0m\" 200 -\n"
          ]
        },
        {
          "name": "stdout",
          "output_type": "stream",
          "text": [
            "25.0\n",
            "1/1 [==============================] - 0s 39ms/step\n",
            "1/1 [==============================] - 0s 35ms/step\n"
          ]
        },
        {
          "name": "stderr",
          "output_type": "stream",
          "text": [
            "INFO:werkzeug:127.0.0.1 - - [18/Nov/2022 07:47:24] \"\u001b[37mPOST /Predict_image HTTP/1.1\u001b[0m\" 200 -\n"
          ]
        },
        {
          "name": "stdout",
          "output_type": "stream",
          "text": [
            "1\n",
            "0\n"
          ]
        },
        {
          "name": "stderr",
          "output_type": "stream",
          "text": [
            "INFO:werkzeug:127.0.0.1 - - [18/Nov/2022 07:47:25] \"\u001b[37mGET /static/image/00124.jpg HTTP/1.1\u001b[0m\" 200 -\n",
            "INFO:werkzeug:127.0.0.1 - - [18/Nov/2022 07:49:02] \"\u001b[31m\u001b[1mPOST /Predict_image HTTP/1.1\u001b[0m\" 400 -\n",
            "INFO:werkzeug:127.0.0.1 - - [18/Nov/2022 07:49:03] \"\u001b[37mPOST /upload_image HTTP/1.1\u001b[0m\" 200 -\n"
          ]
        },
        {
          "name": "stdout",
          "output_type": "stream",
          "text": [
            "25.0\n",
            "1/1 [==============================] - 0s 45ms/step\n"
          ]
        },
        {
          "name": "stderr",
          "output_type": "stream",
          "text": [
            "INFO:werkzeug:127.0.0.1 - - [18/Nov/2022 07:49:18] \"\u001b[37mPOST /Predict_image HTTP/1.1\u001b[0m\" 200 -\n"
          ]
        },
        {
          "name": "stdout",
          "output_type": "stream",
          "text": [
            "0\n",
            "1\n"
          ]
        },
        {
          "name": "stderr",
          "output_type": "stream",
          "text": [
            "INFO:werkzeug:127.0.0.1 - - [18/Nov/2022 07:49:19] \"\u001b[37mGET /static/image/Joe_Biden_presidential_portrait.jpg HTTP/1.1\u001b[0m\" 200 -\n"
          ]
        },
        {
          "name": "stdout",
          "output_type": "stream",
          "text": [
            "25.0\n",
            "1/1 [==============================] - 0s 39ms/step\n"
          ]
        },
        {
          "name": "stderr",
          "output_type": "stream",
          "text": [
            "INFO:werkzeug:127.0.0.1 - - [18/Nov/2022 07:49:35] \"\u001b[37mPOST /Predict_image HTTP/1.1\u001b[0m\" 200 -\n"
          ]
        },
        {
          "name": "stdout",
          "output_type": "stream",
          "text": [
            "0\n",
            "1\n"
          ]
        },
        {
          "name": "stderr",
          "output_type": "stream",
          "text": [
            "INFO:werkzeug:127.0.0.1 - - [18/Nov/2022 07:49:36] \"\u001b[37mGET /static/image/400.jpeg HTTP/1.1\u001b[0m\" 200 -\n"
          ]
        },
        {
          "name": "stdout",
          "output_type": "stream",
          "text": [
            "25.0\n",
            "1/1 [==============================] - 0s 37ms/step\n"
          ]
        },
        {
          "name": "stderr",
          "output_type": "stream",
          "text": [
            "INFO:werkzeug:127.0.0.1 - - [18/Nov/2022 07:55:25] \"\u001b[37mPOST /Predict_image HTTP/1.1\u001b[0m\" 200 -\n"
          ]
        },
        {
          "name": "stdout",
          "output_type": "stream",
          "text": [
            "1\n",
            "0\n"
          ]
        },
        {
          "name": "stderr",
          "output_type": "stream",
          "text": [
            "INFO:werkzeug:127.0.0.1 - - [18/Nov/2022 07:55:26] \"\u001b[37mGET /static/image/00278.jpg HTTP/1.1\u001b[0m\" 200 -\n"
          ]
        },
        {
          "name": "stdout",
          "output_type": "stream",
          "text": [
            "25.0\n",
            "1/1 [==============================] - 0s 36ms/step\n"
          ]
        },
        {
          "name": "stderr",
          "output_type": "stream",
          "text": [
            "INFO:werkzeug:127.0.0.1 - - [18/Nov/2022 07:56:26] \"\u001b[37mPOST /Predict_image HTTP/1.1\u001b[0m\" 200 -\n"
          ]
        },
        {
          "name": "stdout",
          "output_type": "stream",
          "text": [
            "1\n",
            "0\n"
          ]
        },
        {
          "name": "stderr",
          "output_type": "stream",
          "text": [
            "INFO:werkzeug:127.0.0.1 - - [18/Nov/2022 07:56:26] \"\u001b[37mGET /static/image/download.jfif HTTP/1.1\u001b[0m\" 200 -\n"
          ]
        },
        {
          "name": "stdout",
          "output_type": "stream",
          "text": [
            "25.0\n",
            "1/1 [==============================] - 0s 37ms/step\n",
            "1/1 [==============================] - 0s 35ms/step\n",
            "1/1 [==============================] - 0s 34ms/step\n",
            "1/1 [==============================] - 0s 36ms/step\n"
          ]
        },
        {
          "name": "stderr",
          "output_type": "stream",
          "text": [
            "INFO:werkzeug:127.0.0.1 - - [18/Nov/2022 07:57:21] \"\u001b[37mPOST /Predict_image HTTP/1.1\u001b[0m\" 200 -\n"
          ]
        },
        {
          "name": "stdout",
          "output_type": "stream",
          "text": [
            "1\n",
            "0\n"
          ]
        },
        {
          "name": "stderr",
          "output_type": "stream",
          "text": [
            "INFO:werkzeug:127.0.0.1 - - [18/Nov/2022 07:57:21] \"\u001b[33mGET /static/image/_123749588_fakeputin.png HTTP/1.1\u001b[0m\" 404 -\n"
          ]
        }
      ],
      "source": [
        "if __name__ =='__main__':\n",
        "  app.run()"
      ]
    }
  ],
  "metadata": {
    "accelerator": "GPU",
    "colab": {
      "provenance": []
    },
    "gpuClass": "standard",
    "kernelspec": {
      "display_name": "Python 3",
      "name": "python3"
    },
    "language_info": {
      "name": "python"
    }
  },
  "nbformat": 4,
  "nbformat_minor": 0
}